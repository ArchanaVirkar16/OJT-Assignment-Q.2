{
 "cells": [
  {
   "cell_type": "markdown",
   "id": "56806dc7",
   "metadata": {},
   "source": [
    "#### Q2. Row Echelon Form:"
   ]
  },
  {
   "cell_type": "code",
   "execution_count": 1,
   "id": "9e956b68",
   "metadata": {},
   "outputs": [
    {
     "name": "stdout",
     "output_type": "stream",
     "text": [
      " Matrix A:\n",
      "[[7 8 5 7 5]\n",
      " [1 6 0 3 8]\n",
      " [7 1 5 7 8]\n",
      " [3 7 0 7 2]\n",
      " [1 8 0 8 9]]\n"
     ]
    }
   ],
   "source": [
    "import numpy as np\n",
    "np.random.seed(55)\n",
    "A = np.random.randint(0, 10, size=(5, 5))\n",
    "print(\" Matrix A:\")\n",
    "print(A)"
   ]
  },
  {
   "cell_type": "code",
   "execution_count": 2,
   "id": "ec01b079",
   "metadata": {},
   "outputs": [
    {
     "name": "stdout",
     "output_type": "stream",
     "text": [
      "\n",
      "Row Echelon Form of Matrix A:\n",
      "[[1 1 0 1 0]\n",
      " [0 1 0 0 1]\n",
      " [0 0 1 0 2]\n",
      " [0 0 0 1 0]\n",
      " [0 0 0 0 1]]\n"
     ]
    }
   ],
   "source": [
    "rows, cols = A.shape\n",
    "for i in range(min(rows, cols)):\n",
    "    pivot_row = i\n",
    "    while pivot_row < rows and A[pivot_row, i] == 0:\n",
    "        pivot_row += 1\n",
    "    if pivot_row == rows: \n",
    "        continue\n",
    "    A[[i, pivot_row]] = A[[pivot_row, i]]\n",
    "    A[i] = A[i] / A[i, i]\n",
    "    for j in range(i + 1, rows):\n",
    "        A[j] = A[j] - A[j, i] * A[i]\n",
    "\n",
    "print(\"\\nRow Echelon Form of Matrix A:\")\n",
    "print(A)"
   ]
  },
  {
   "cell_type": "code",
   "execution_count": null,
   "id": "14005ef0",
   "metadata": {},
   "outputs": [],
   "source": []
  }
 ],
 "metadata": {
  "kernelspec": {
   "display_name": "Python 3 (ipykernel)",
   "language": "python",
   "name": "python3"
  },
  "language_info": {
   "codemirror_mode": {
    "name": "ipython",
    "version": 3
   },
   "file_extension": ".py",
   "mimetype": "text/x-python",
   "name": "python",
   "nbconvert_exporter": "python",
   "pygments_lexer": "ipython3",
   "version": "3.11.5"
  }
 },
 "nbformat": 4,
 "nbformat_minor": 5
}
